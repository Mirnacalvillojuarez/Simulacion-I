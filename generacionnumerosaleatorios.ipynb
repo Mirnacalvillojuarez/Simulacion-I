{
  "nbformat": 4,
  "nbformat_minor": 0,
  "metadata": {
    "colab": {
      "provenance": [],
      "authorship_tag": "ABX9TyM5vn4oFk1GsB1mYPk7Av1H",
      "include_colab_link": true
    },
    "kernelspec": {
      "name": "python3",
      "display_name": "Python 3"
    },
    "language_info": {
      "name": "python"
    }
  },
  "cells": [
    {
      "cell_type": "markdown",
      "metadata": {
        "id": "view-in-github",
        "colab_type": "text"
      },
      "source": [
        "<a href=\"https://colab.research.google.com/github/Mirnacalvillojuarez/Simulacion-I/blob/main/generacionnumerosaleatorios.ipynb\" target=\"_parent\"><img src=\"https://colab.research.google.com/assets/colab-badge.svg\" alt=\"Open In Colab\"/></a>"
      ]
    },
    {
      "cell_type": "code",
      "execution_count": null,
      "metadata": {
        "id": "taHeJDM34xXV",
        "colab": {
          "base_uri": "https://localhost:8080/"
        },
        "outputId": "8bd258db-cbbf-43d4-9095-4c213ebe1a22"
      },
      "outputs": [
        {
          "output_type": "stream",
          "name": "stdout",
          "text": [
            "Introduce un numero de 4 cifras1234\n",
            "1234\n"
          ]
        }
      ],
      "source": [
        "a = int(input('Introduce un numero de 4 cifras'))\n",
        "print (a)\n"
      ]
    },
    {
      "cell_type": "code",
      "source": [
        "from math import pow"
      ],
      "metadata": {
        "id": "4bkOwbMW5fCn"
      },
      "execution_count": null,
      "outputs": []
    },
    {
      "cell_type": "code",
      "source": [
        "a= a*a\n",
        "print(a)"
      ],
      "metadata": {
        "colab": {
          "base_uri": "https://localhost:8080/"
        },
        "id": "DKU5Ts5e54IH",
        "outputId": "e6ea7b47-3877-4dc0-8585-f2a77cd83e19"
      },
      "execution_count": null,
      "outputs": [
        {
          "output_type": "stream",
          "name": "stdout",
          "text": [
            "1522756\n"
          ]
        }
      ]
    },
    {
      "cell_type": "code",
      "source": [
        "cifras = [int(digito ) for digito in str(a)]\n",
        "cifras"
      ],
      "metadata": {
        "colab": {
          "base_uri": "https://localhost:8080/"
        },
        "id": "RoUO-G8O6y0I",
        "outputId": "2444377a-025b-4c00-a6fa-81e398ababcb"
      },
      "execution_count": null,
      "outputs": [
        {
          "output_type": "execute_result",
          "data": {
            "text/plain": [
              "[1, 5, 2, 2, 7, 5, 6]"
            ]
          },
          "metadata": {},
          "execution_count": 93
        }
      ]
    },
    {
      "cell_type": "code",
      "source": [
        "n = []\n",
        "if len(cifras)<8:\n",
        "  for i in range (8):\n",
        "\n",
        "\n"
      ],
      "metadata": {
        "id": "az_l6VFY5fBe",
        "colab": {
          "base_uri": "https://localhost:8080/",
          "height": 106
        },
        "outputId": "439a1338-7c68-432e-86d3-67ccf826a0b2"
      },
      "execution_count": 97,
      "outputs": [
        {
          "output_type": "error",
          "ename": "SyntaxError",
          "evalue": "incomplete input (<ipython-input-97-e0a6a88fb942>, line 5)",
          "traceback": [
            "\u001b[0;36m  File \u001b[0;32m\"<ipython-input-97-e0a6a88fb942>\"\u001b[0;36m, line \u001b[0;32m5\u001b[0m\n\u001b[0;31m    \u001b[0m\n\u001b[0m    ^\u001b[0m\n\u001b[0;31mSyntaxError\u001b[0m\u001b[0;31m:\u001b[0m incomplete input\n"
          ]
        }
      ]
    }
  ]
}