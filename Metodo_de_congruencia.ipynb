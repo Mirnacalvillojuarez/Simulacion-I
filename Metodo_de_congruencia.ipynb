{
  "nbformat": 4,
  "nbformat_minor": 0,
  "metadata": {
    "colab": {
      "provenance": [],
      "authorship_tag": "ABX9TyM/uulOaJ+eP4KY+/sn6eVq",
      "include_colab_link": true
    },
    "kernelspec": {
      "name": "python3",
      "display_name": "Python 3"
    },
    "language_info": {
      "name": "python"
    }
  },
  "cells": [
    {
      "cell_type": "markdown",
      "metadata": {
        "id": "view-in-github",
        "colab_type": "text"
      },
      "source": [
        "<a href=\"https://colab.research.google.com/github/Mirnacalvillojuarez/Simulacion-I/blob/main/Metodo_de_congruencia.ipynb\" target=\"_parent\"><img src=\"https://colab.research.google.com/assets/colab-badge.svg\" alt=\"Open In Colab\"/></a>"
      ]
    },
    {
      "cell_type": "code",
      "execution_count": 66,
      "metadata": {
        "colab": {
          "base_uri": "https://localhost:8080/"
        },
        "id": "DrCMgWdnPsZV",
        "outputId": "32f340b3-c073-4942-bd70-2d5e846097c0"
      },
      "outputs": [
        {
          "output_type": "stream",
          "name": "stdout",
          "text": [
            "[0.5217391304347826, 0.8260869565217391, 0.34782608695652173, 0.9565217391304348, 0.0, 0.21739130434782608, 0.30434782608695654, 0.7391304347826086, 0.9130434782608695, 0.782608695652174, 0.13043478260869565, 0.8695652173913043, 0.5652173913043478, 0.043478260869565216, 0.43478260869565216, 0.391304347826087, 0.17391304347826086, 0.08695652173913043, 0.6521739130434783, 0.4782608695652174]\n"
          ]
        }
      ],
      "source": [
        "m = 23\n",
        "\n",
        "x0 = 6\n",
        "a = 5\n",
        "c = 5\n",
        "l = []\n",
        "\n",
        "for _ in range(20):\n",
        "  x1 = (a*x0+c)%m\n",
        "  x0=x1\n",
        "  l.append(x1/m)\n",
        "for i in range(20):\n",
        "  for j in range(20):\n",
        "    if i!= j and l[i] == l[j]:\n",
        "      print(l[i], l[j], i,j)\n",
        "\n",
        "print(l)\n",
        "#el ciclo de vida esta determinado por el m"
      ]
    }
  ]
}